{
 "cells": [
  {
   "cell_type": "code",
   "execution_count": 12,
   "metadata": {},
   "outputs": [
    {
     "data": {
      "text/html": [
       "   <div id=\"B7heRD\"></div>\n",
       "   <script type=\"text/javascript\" data-lets-plot-script=\"library\">\n",
       "       if(!window.letsPlotCallQueue) {\n",
       "           window.letsPlotCallQueue = [];\n",
       "       }; \n",
       "       window.letsPlotCall = function(f) {\n",
       "           window.letsPlotCallQueue.push(f);\n",
       "       };\n",
       "       (function() {\n",
       "           var script = document.createElement(\"script\");\n",
       "           script.type = \"text/javascript\";\n",
       "           script.src = \"https://dl.bintray.com/jetbrains/lets-plot/lets-plot-1.5.2.min.js\";\n",
       "           script.onload = function() {\n",
       "               window.letsPlotCall = function(f) {f();};\n",
       "               window.letsPlotCallQueue.forEach(function(f) {f();});\n",
       "               window.letsPlotCallQueue = [];\n",
       "               \n",
       "               \n",
       "           };\n",
       "           script.onerror = function(event) {\n",
       "               window.letsPlotCall = function(f) {};\n",
       "               window.letsPlotCallQueue = [];\n",
       "               var div = document.createElement(\"div\");\n",
       "               div.style.color = 'darkred';\n",
       "               div.textContent = 'Error loading Lets-Plot JS';\n",
       "               document.getElementById(\"B7heRD\").appendChild(div);\n",
       "           };\n",
       "           var e = document.getElementById(\"B7heRD\");\n",
       "           e.appendChild(script);\n",
       "       })();\n",
       "   </script>"
      ]
     },
     "metadata": {},
     "output_type": "display_data"
    }
   ],
   "source": [
    "%use lets-plot, krangl, kotlin-statistics"
   ]
  },
  {
   "cell_type": "code",
   "execution_count": 15,
   "metadata": {},
   "outputs": [],
   "source": [
    "val df = DataFrame.readCSV(\"data/20191203動物資料.csv\")"
   ]
  },
  {
   "cell_type": "code",
   "execution_count": 8,
   "metadata": {},
   "outputs": [
    {
     "name": "stdout",
     "output_type": "stream",
     "text": [
      "A DataFrame: 364 x 46\n",
      "     ﻿A_Name_Ch     A_Summary     A_Keywords   A_AlsoKnown\n",
      " 1          大貓熊   請於入園時領取參觀票券   大貓熊;圓仔;團團;圓圓              \n",
      " 2         國王企鵝                      企鵝；國王企鵝              \n",
      " 3         黑腳企鵝                                           \n",
      " 4         弓角羚羊                                           \n",
      " 5         非洲野驢                                           \n",
      " 6         單峰駱駝                                           \n",
      " 7         雙峰駱駝                                           \n",
      " 8           人猿                                           \n",
      " 9         大長臂猿                                           \n",
      "10        印度大犀鳥                                           \n",
      "and 354 more rows, and and 42 more variables: A_Location, A_POIGroup, A_Name_En, A_Name_Latin,\n",
      "A_Phylum, A_Class, A_Order, A_Family, A_Conservation, A_Distribution, A_Habitat, A_Feature,\n",
      "A_Behavior, A_Diet, A_Crisis, A_Interpretation, A_Theme_Name, A_Theme_URL, A_Adopt, A_Code,\n",
      "A_Pic01_ALT, A_Pic01_URL, A_Pic02_ALT, A_Pic02_URL, A_Pic03_ALT, A_Pic03_URL, A_Pic04_ALT,\n",
      "A_Pic04_URL, A_pdf01_ALT, A_pdf01_URL, A_pdf02_ALT, A_pdf02_URL, A_Voice01_ALT, A_Voice01_URL,\n",
      "A_Voice02_ALT, A_Voice02_URL, A_Voice03_ALT, A_Voice03_URL, A_Vedio_URL, A_Update, A_CID\n"
     ]
    }
   ],
   "source": [
    "println(df)"
   ]
  },
  {
   "cell_type": "code",
   "execution_count": null,
   "metadata": {},
   "outputs": [],
   "source": []
  }
 ],
 "metadata": {
  "kernelspec": {
   "display_name": "Kotlin",
   "language": "kotlin",
   "name": "kotlin"
  },
  "language_info": {
   "codemirror_mode": "text/x-kotlin",
   "file_extension": ".kt",
   "mimetype": "text/x-kotlin",
   "name": "kotlin",
   "pygments_lexer": "kotlin",
   "version": "1.4.20-dev-2342"
  }
 },
 "nbformat": 4,
 "nbformat_minor": 4
}
