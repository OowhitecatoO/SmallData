{
 "cells": [
  {
   "cell_type": "code",
   "execution_count": 2,
   "metadata": {},
   "outputs": [],
   "source": [
    "%use lets-plot, krangl, kotlin-statistics, klaxon\n",
    "import java.time.LocalDate\n",
    "import java.util.*\n",
    "import java.time.ZoneId"
   ]
  },
  {
   "cell_type": "code",
   "execution_count": 37,
   "metadata": {},
   "outputs": [],
   "source": [
    "import java.net.URL\n",
    "fun DataFrame.Companion.fromJsonObject(url: String, mapper: (JsonObject) -> JsonArray<*>): DataFrame {\n",
    "    val uri = URL(url).toURI().toURL()\n",
    "    val obj = Parser.default().parse(uri.openStream()) as JsonObject\n",
    "    val arr = obj.let(mapper).toJsonString()\n",
    "    return DataFrame.fromJsonString(arr)\n",
    "}\n",
    "\n",
    "fun <R> DataFrame.mapStringColumn(column: String, default: R, mapFunc: (String) -> R?) =\n",
    "    addColumn(column) { it[column].map<String> { i -> mapFunc(i) ?: default } }\n",
    "infix fun DataCol.notEq(i: Any) = !eq(i)"
   ]
  },
  {
   "cell_type": "code",
   "execution_count": 42,
   "metadata": {},
   "outputs": [],
   "source": [
    "val dataUrl = \"https://data.taipei/api/v1/dataset/f4a75ba9-7721-4363-884d-c3820b0b917c?scope=resourceAquire\"\n",
    "val df = DataFrame.fromJsonObject(dataUrl) { it.obj(\"result\")!!.array<Any?>(\"results\")!! }\n",
    "        .mapStringColumn(\"Bodyweight\", 0.0) {it: String ->\n",
    "            it.substringBefore(\"KG\", \"0\").toDoubleOrNull()\n",
    "        }"
   ]
  },
  {
   "cell_type": "code",
   "execution_count": 43,
   "metadata": {},
   "outputs": [
    {
     "name": "stdout",
     "output_type": "stream",
     "text": [
      "DataFrame with 365 observations\n",
      "AcceptNum        [Str]  106060601, 106060401, 106060210, 106060207, 106060203, 106053107, 106052807, 106052604, 106052603, 1...\n",
      "IsSterilization  [Str]  未絕育, 已絕育, 未絕育, 未絕育, 未絕育, 未絕育, 未絕育, 未絕育, 未絕育, 已絕育, 未絕育, 未絕育, 未絕育, 未絕育, 未絕育, 已絕育, 未絕育, 未絕育, 未絕育, 未絕育, ...\n",
      "Name             [Str]  , , 俊俊, 小莊, 好橙, 歐雅, 青茶, 烏莉, 安亞, 吉好, 霖霖, 斑恩, 南風, 美荷, 董仔, 妍妍, 瓦諾, 琪妍, 亞當, 西蒙, 吉哥, 山迪, 小白, 泉泉, , 蘇珊, , ...\n",
      "Variety          [Str]  米克斯, 米克斯, 米克斯, 米克斯, 米克斯, 米克斯, 米克斯, 米克斯, 米克斯, 米克斯, 米克斯, 米克斯, 米克斯, 米克斯, 米克斯, 米克斯, 米克斯, 米克斯, 米克斯, 米克斯, ...\n",
      "Age              [Str]  成年, 成年, 成年, 成年, 成年, 年輕, 年輕, 成年, 年輕, 成年, 成年, 成年, 成年, 成年, 年輕, 成年, 成年, 成年, 成年, 成年, 成年, 成年, 成年, 成年, 成年, ...\n",
      "ChildreAnlong    [Str]  , , , , , , , , , , , , , , , 不確定, , , , , , , , , , , , , , , , , , , , , , , , , , , 可, 可, 可, 可, 可...\n",
      "Resettlement     [Str]  臺北市動物之家 收容編號106060601, , 臺北市動物之家 收容編號106060210, 臺北市動物之家 收容編號106060207, 臺北市動物之家 收容編號106060203, 臺北市動物之...\n",
      "Sex              [Str]  雄, 雌, 雄, 雄, 雄, 雌, 雄, 雌, 雌, 雄, 雄, 雄, 雄, 雌, 雄, 雌, 雄, 雌, 雄, 雄, 雄, 雄, 雌, 雄, 雌, 雌, 雌, 雄, 雌, 雌, 雌, 雌, 雄, 雄...\n",
      "Note             [Str]  左剪耳 輕微脫水 精神食慾不佳, , 嗨~~我的名字叫俊俊，希望帥氣的我可以受您的青睞，快來動物之家看看我吧!\n",
      ", 哈囉~我的名字叫小莊，目前我在動物之家生活，希望能快快找到，願意認養我的人來帶我回家...\n",
      "Phone            [Str]  02-87913063, , 02-87913062, 02-87913062, 02-87913062, 02-87913062, 02-87913062, 02-87913062, 02-8791...\n",
      "Reason           [Str]  民眾不擬續養, 民眾不擬續養, 動物管制, 動物管制, 動物管制, 動物管制, 動物管制, 動物管制, 動物管制, 民眾不擬續養, 動物管制, 動物管制, 動物管制, 動物管制, 民眾不擬續養, , ...\n",
      "ImageName        [Str]  http://163.29.39.183/uploads/images/medium/c0f66294-143c-4406-8714-2e6764352b13.jpg, http://163.29.3...\n",
      "HairType         [Str]  虎斑白, 黃白, 黃白, 黃, 黃, 黑, 虎斑白, 黑, 黃, 黃白, 黑白, 虎斑, 黑白, 虎斑, 棕黑, 黑, 虎斑白, 虎斑白, 黃白, 虎斑白, 黃, 黃, 黑, 黃白, 虎斑, 虎斑白,...\n",
      "Build            [Str]  中, 中, 中, 中, 中, 中, 中, 中, 中, 中, 中, 中, 中, 中, 中, 中, 中, 中, 中, 中, 中, 中, 中, 中, 中, 中, 幼, 小, 中, 中, 中, 中, 中, 中...\n",
      "AnimalAnlong     [Str]  , , , , , , , , , , , , , , , 不確定, , , , , , , , , , , , , , , , , , , , , , , , , , , 可, 可, 可, 可, 可...\n",
      "ChipNum          [Str]  900073000086900, 900073000086481, , , , , , , , 900073000086030, , , , , 900138000781115, , , , , , ...\n",
      "_id              [Int]  1, 2, 3, 4, 5, 6, 7, 8, 9, 10, 11, 12, 13, 14, 15, 16, 17, 18, 19, 20, 21, 22, 23, 24, 25, 26, 27, 2...\n",
      "Type             [Str]  貓, 貓, 貓, 貓, 貓, 貓, 貓, 貓, 貓, 貓, 貓, 貓, 貓, 貓, 犬, 貓, 貓, 貓, 貓, 貓, 貓, 貓, 犬, 貓, 貓, 貓, 犬, 犬, 犬, 貓, 貓, 貓, 貓, 貓...\n",
      "Email            [Str]  tcapoa8@mail.taipei.gov.tw, , tcapoa8@mail.taipei.gov.tw, tcapoa8@mail.taipei.gov.tw, tcapoa8@mail.t...\n",
      "Bodyweight       [Dbl]  0, 0, 0, 0, 0, 0, 0, 0, 0, 0, 0, 0, 0, 0, 0, 3, 0, 0, 0, 0, 0, 0, 0, 0, 0, 0, 0, 0, 0, 0, 0, 0, 0, 0...\n"
     ]
    }
   ],
   "source": [
    "df.schema()"
   ]
  },
  {
   "cell_type": "code",
   "execution_count": 44,
   "metadata": {},
   "outputs": [],
   "source": [
    "val dfPlots = lets_plot(df.toMap())"
   ]
  },
  {
   "cell_type": "code",
   "execution_count": 50,
   "metadata": {},
   "outputs": [
    {
     "data": {
      "text/html": [
       "   <div id=\"7HTFqG\"></div>\n",
       "   <script type=\"text/javascript\" data-lets-plot-script=\"plot\">\n",
       "       (function() {\n",
       "           var plotSpec={\n",
       "'ggtitle':{\n",
       "'text':\"收容動物種類統計\"\n",
       "},\n",
       "'mapping':{\n",
       "},\n",
       "'data':{\n",
       "},\n",
       "'kind':\"plot\",\n",
       "'scales':[],\n",
       "'layers':[{\n",
       "'mapping':{\n",
       "'x':\"Type\"\n",
       "},\n",
       "'stat':\"count\",\n",
       "'data':{\n",
       "'Type':[\"貓\",\"犬\",\"其他\"],\n",
       "'..count..':[116.0,187.0,62.0]\n",
       "},\n",
       "'position':\"stack\",\n",
       "'geom':\"bar\"\n",
       "}]\n",
       "};\n",
       "           var plotContainer = document.getElementById(\"7HTFqG\");\n",
       "           window.letsPlotCall(function() {{\n",
       "               LetsPlot.buildPlotFromProcessedSpecs(plotSpec, -1, -1, plotContainer);\n",
       "           }});\n",
       "       })();    \n",
       "   </script>"
      ]
     },
     "execution_count": 50,
     "metadata": {},
     "output_type": "execute_result"
    }
   ],
   "source": [
    "dfPlots + geom_bar() { x = \"Type\" } + ggtitle(\"收容動物種類統計\")"
   ]
  },
  {
   "cell_type": "code",
   "execution_count": 51,
   "metadata": {},
   "outputs": [
    {
     "data": {
      "text/html": [
       "   <div id=\"hW0Co1\"></div>\n",
       "   <script type=\"text/javascript\" data-lets-plot-script=\"plot\">\n",
       "       (function() {\n",
       "           var plotSpec={\n",
       "'ggtitle':{\n",
       "'text':\"收容動物種類統計(性別比)\"\n",
       "},\n",
       "'mapping':{\n",
       "},\n",
       "'data':{\n",
       "},\n",
       "'kind':\"plot\",\n",
       "'scales':[],\n",
       "'layers':[{\n",
       "'mapping':{\n",
       "'x':\"Type\",\n",
       "'fill':\"Sex\"\n",
       "},\n",
       "'stat':\"count\",\n",
       "'data':{\n",
       "'Type':[\"貓\",\"犬\",\"其他\",\"貓\",\"犬\",\"其他\"],\n",
       "'..count..':[51.0,108.0,31.0,65.0,79.0,31.0],\n",
       "'Sex':[\"雄\",\"雄\",\"雄\",\"雌\",\"雌\",\"雌\"]\n",
       "},\n",
       "'position':\"stack\",\n",
       "'geom':\"bar\"\n",
       "}]\n",
       "};\n",
       "           var plotContainer = document.getElementById(\"hW0Co1\");\n",
       "           window.letsPlotCall(function() {{\n",
       "               LetsPlot.buildPlotFromProcessedSpecs(plotSpec, -1, -1, plotContainer);\n",
       "           }});\n",
       "       })();    \n",
       "   </script>"
      ]
     },
     "execution_count": 51,
     "metadata": {},
     "output_type": "execute_result"
    }
   ],
   "source": [
    "dfPlots + geom_bar() { x = \"Type\"; fill = \"Sex\" } + ggtitle(\"收容動物種類統計(性別比)\")"
   ]
  },
  {
   "cell_type": "code",
   "execution_count": 52,
   "metadata": {},
   "outputs": [
    {
     "data": {
      "text/html": [
       "   <div id=\"Cli4Su\"></div>\n",
       "   <script type=\"text/javascript\" data-lets-plot-script=\"plot\">\n",
       "       (function() {\n",
       "           var plotSpec={\n",
       "'ggtitle':{\n",
       "'text':\"收容動物種類統計(絕育比)\"\n",
       "},\n",
       "'mapping':{\n",
       "},\n",
       "'data':{\n",
       "},\n",
       "'kind':\"plot\",\n",
       "'scales':[],\n",
       "'layers':[{\n",
       "'mapping':{\n",
       "'x':\"Type\",\n",
       "'fill':\"IsSterilization\"\n",
       "},\n",
       "'stat':\"count\",\n",
       "'data':{\n",
       "'Type':[\"貓\",\"犬\",\"其他\",\"貓\",\"犬\",\"其他\"],\n",
       "'..count..':[83.0,129.0,2.0,33.0,58.0,60.0],\n",
       "'IsSterilization':[\"未絕育\",\"未絕育\",\"未絕育\",\"已絕育\",\"已絕育\",\"已絕育\"]\n",
       "},\n",
       "'position':\"stack\",\n",
       "'geom':\"bar\"\n",
       "}]\n",
       "};\n",
       "           var plotContainer = document.getElementById(\"Cli4Su\");\n",
       "           window.letsPlotCall(function() {{\n",
       "               LetsPlot.buildPlotFromProcessedSpecs(plotSpec, -1, -1, plotContainer);\n",
       "           }});\n",
       "       })();    \n",
       "   </script>"
      ]
     },
     "execution_count": 52,
     "metadata": {},
     "output_type": "execute_result"
    }
   ],
   "source": [
    "dfPlots + geom_bar() { x = \"Type\"; fill = \"IsSterilization\" } + ggtitle(\"收容動物種類統計(絕育比)\")"
   ]
  },
  {
   "cell_type": "code",
   "execution_count": 55,
   "metadata": {},
   "outputs": [
    {
     "data": {
      "text/html": [
       "   <div id=\"wPwMuw\"></div>\n",
       "   <script type=\"text/javascript\" data-lets-plot-script=\"plot\">\n",
       "       (function() {\n",
       "           var plotSpec={\n",
       "'ggtitle':{\n",
       "'text':\"收容動物種類統計(年齡比)\"\n",
       "},\n",
       "'mapping':{\n",
       "},\n",
       "'data':{\n",
       "},\n",
       "'kind':\"plot\",\n",
       "'scales':[],\n",
       "'layers':[{\n",
       "'mapping':{\n",
       "'x':\"Type\",\n",
       "'fill':\"Age\"\n",
       "},\n",
       "'stat':\"count\",\n",
       "'data':{\n",
       "'Type':[\"貓\",\"犬\",\"其他\",\"貓\",\"犬\",\"其他\",\"犬\",\"貓\",\"犬\",\"貓\"],\n",
       "'..count..':[97.0,122.0,21.0,14.0,22.0,41.0,16.0,1.0,27.0,4.0],\n",
       "'Age':[\"成年\",\"成年\",\"成年\",\"年輕\",\"年輕\",\"年輕\",\"幼齡\",\"幼齡\",\"老年\",\"老年\"]\n",
       "},\n",
       "'position':\"stack\",\n",
       "'geom':\"bar\"\n",
       "}]\n",
       "};\n",
       "           var plotContainer = document.getElementById(\"wPwMuw\");\n",
       "           window.letsPlotCall(function() {{\n",
       "               LetsPlot.buildPlotFromProcessedSpecs(plotSpec, -1, -1, plotContainer);\n",
       "           }});\n",
       "       })();    \n",
       "   </script>"
      ]
     },
     "execution_count": 55,
     "metadata": {},
     "output_type": "execute_result"
    }
   ],
   "source": [
    "dfPlots + geom_bar() { x = \"Type\"; fill = \"Age\" } + ggtitle(\"收容動物種類統計(年齡比)\")"
   ]
  },
  {
   "cell_type": "code",
   "execution_count": 58,
   "metadata": {},
   "outputs": [
    {
     "data": {
      "text/html": [
       "   <div id=\"wou92z\"></div>\n",
       "   <script type=\"text/javascript\" data-lets-plot-script=\"plot\">\n",
       "       (function() {\n",
       "           var plotSpec={\n",
       "'ggtitle':{\n",
       "'text':\"性別對絕育的比例關係\"\n",
       "},\n",
       "'mapping':{\n",
       "},\n",
       "'data':{\n",
       "},\n",
       "'kind':\"plot\",\n",
       "'scales':[],\n",
       "'layers':[{\n",
       "'mapping':{\n",
       "'x':\"Sex\",\n",
       "'fill':\"IsSterilization\"\n",
       "},\n",
       "'stat':\"count\",\n",
       "'data':{\n",
       "'Type':[\"貓\",\"貓\",\"貓\",\"貓\",\"犬\",\"犬\",\"犬\",\"犬\",\"其他\",\"其他\",\"其他\",\"其他\"],\n",
       "'..count..':[37.0,46.0,19.0,14.0,68.0,61.0,40.0,18.0,30.0,30.0,1.0,1.0],\n",
       "'Sex':[\"雄\",\"雌\",\"雌\",\"雄\",\"雄\",\"雌\",\"雄\",\"雌\",\"雌\",\"雄\",\"雄\",\"雌\"],\n",
       "'IsSterilization':[\"未絕育\",\"未絕育\",\"已絕育\",\"已絕育\",\"未絕育\",\"未絕育\",\"已絕育\",\"已絕育\",\"已絕育\",\"已絕育\",\"未絕育\",\"未絕育\"]\n",
       "},\n",
       "'position':\"stack\",\n",
       "'geom':\"bar\"\n",
       "}],\n",
       "'facet':{\n",
       "'x':\"Type\"\n",
       "}\n",
       "};\n",
       "           var plotContainer = document.getElementById(\"wou92z\");\n",
       "           window.letsPlotCall(function() {{\n",
       "               LetsPlot.buildPlotFromProcessedSpecs(plotSpec, -1, -1, plotContainer);\n",
       "           }});\n",
       "       })();    \n",
       "   </script>"
      ]
     },
     "execution_count": 58,
     "metadata": {},
     "output_type": "execute_result"
    }
   ],
   "source": [
    "dfPlots + facet_grid(\"Type\") + geom_bar { x = \"Sex\"; fill = \"IsSterilization\" } + ggtitle(\"性別對絕育的比例關係\")"
   ]
  },
  {
   "cell_type": "code",
   "execution_count": 70,
   "metadata": {},
   "outputs": [
    {
     "data": {
      "text/html": [
       "   <div id=\"17QwIx\"></div>\n",
       "   <script type=\"text/javascript\" data-lets-plot-script=\"plot\">\n",
       "       (function() {\n",
       "           var plotSpec={\n",
       "'ggtitle':{\n",
       "'text':\"體重分佈\"\n",
       "},\n",
       "'mapping':{\n",
       "},\n",
       "'data':{\n",
       "'Type':[\"貓\",\"其他\",\"其他\",\"其他\",\"其他\",\"其他\",\"其他\",\"其他\",\"其他\",\"其他\",\"其他\",\"其他\",\"其他\",\"其他\",\"其他\",\"其他\",\"其他\",\"其他\",\"其他\",\"其他\",\"其他\",\"其他\",\"其他\",\"其他\",\"其他\",\"其他\",\"其他\",\"其他\",\"其他\",\"其他\",\"貓\",\"其他\",\"其他\",\"其他\",\"其他\",\"其他\",\"貓\",\"貓\",\"其他\",\"其他\",\"其他\",\"其他\",\"其他\",\"貓\",\"貓\",\"貓\",\"其他\",\"其他\",\"其他\",\"其他\",\"其他\",\"其他\",\"其他\",\"其他\",\"其他\",\"其他\",\"其他\",\"貓\",\"貓\",\"其他\",\"貓\",\"貓\",\"貓\",\"其他\",\"其他\",\"其他\",\"貓\",\"貓\",\"貓\",\"貓\",\"貓\",\"貓\",\"貓\",\"貓\",\"貓\"],\n",
       "'Bodyweight':[3.0,1.2,1.5,1.8,1.2,1.2,1.2,1.2,1.2,1.2,1.2,1.2,2.0,1.0,1.5,1.8,1.8,2.0,1.8,1.8,1.5,1.5,1.2,1.5,1.0,1.5,2.0,1.0,2.5,1.5,3.0,2.0,3.0,1.8,2.0,3.0,5.0,6.0,3.0,2.0,2.0,2.0,1.5,5.0,4.0,3.0,1.5,1.8,1.8,2.0,1.5,1.5,2.0,2.5,1.5,2.0,1.5,4.0,3.5,2.0,4.0,5.0,4.0,1.5,1.8,1.8,5.5,4.0,2.0,4.0,4.0,4.0,6.0,3.5,3.0]\n",
       "},\n",
       "'kind':\"plot\",\n",
       "'scales':[],\n",
       "'layers':[{\n",
       "'mapping':{\n",
       "'x':\"Type\",\n",
       "'y':\"Bodyweight\"\n",
       "},\n",
       "'stat':\"boxplot\",\n",
       "'data':{\n",
       "'..group..':[0.0,0.0,0.0,0.0,0.0],\n",
       "'..middle..':[4.0,NaN,NaN,NaN,1.65],\n",
       "'..upper..':[5.0,NaN,NaN,NaN,2.0],\n",
       "'Type':[\"貓\",\"其他\",\"其他\",\"其他\",\"其他\"],\n",
       "'..ymax..':[6.0,NaN,NaN,NaN,2.5],\n",
       "'..lower..':[3.5,NaN,NaN,NaN,1.5],\n",
       "'..ymin..':[2.0,NaN,NaN,NaN,1.0],\n",
       "'Bodyweight':[NaN,3.0,3.0,3.0,NaN]\n",
       "},\n",
       "'position':\"dodge\",\n",
       "'geom':\"boxplot\"\n",
       "},{\n",
       "'mapping':{\n",
       "'x':\"Type\",\n",
       "'y':\"Bodyweight\"\n",
       "},\n",
       "'stat':\"identity\",\n",
       "'data':{\n",
       "},\n",
       "'position':\"identity\",\n",
       "'geom':\"point\"\n",
       "}]\n",
       "};\n",
       "           var plotContainer = document.getElementById(\"17QwIx\");\n",
       "           window.letsPlotCall(function() {{\n",
       "               LetsPlot.buildPlotFromProcessedSpecs(plotSpec, -1, -1, plotContainer);\n",
       "           }});\n",
       "       })();    \n",
       "   </script>"
      ]
     },
     "execution_count": 70,
     "metadata": {},
     "output_type": "execute_result"
    }
   ],
   "source": [
    "lets_plot(\n",
    "    df.filter { it[\"Bodyweight\"] notEq 0.0 }.toMap()\n",
    ") + geom_boxplot { x = \"Type\"; y = \"Bodyweight\" } +\n",
    "    geom_point { x = \"Type\"; y = \"Bodyweight\" } +\n",
    "    ggtitle(\"體重分佈\")"
   ]
  },
  {
   "cell_type": "code",
   "execution_count": null,
   "metadata": {},
   "outputs": [],
   "source": []
  }
 ],
 "metadata": {
  "kernelspec": {
   "display_name": "Kotlin",
   "language": "kotlin",
   "name": "kotlin"
  },
  "language_info": {
   "codemirror_mode": "text/x-kotlin",
   "file_extension": ".kt",
   "mimetype": "text/x-kotlin",
   "name": "kotlin",
   "pygments_lexer": "kotlin",
   "version": "1.4.20-dev-2342"
  }
 },
 "nbformat": 4,
 "nbformat_minor": 4
}
